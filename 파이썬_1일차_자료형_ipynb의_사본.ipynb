{
  "nbformat": 4,
  "nbformat_minor": 0,
  "metadata": {
    "colab": {
      "provenance": [],
      "include_colab_link": true
    },
    "kernelspec": {
      "name": "python3",
      "display_name": "Python 3"
    },
    "language_info": {
      "name": "python"
    }
  },
  "cells": [
    {
      "cell_type": "markdown",
      "metadata": {
        "id": "view-in-github",
        "colab_type": "text"
      },
      "source": [
        "<a href=\"https://colab.research.google.com/github/wkh124/Python/blob/main/%ED%8C%8C%EC%9D%B4%EC%8D%AC_1%EC%9D%BC%EC%B0%A8_%EC%9E%90%EB%A3%8C%ED%98%95_ipynb%EC%9D%98_%EC%82%AC%EB%B3%B8.ipynb\" target=\"_parent\"><img src=\"https://colab.research.google.com/assets/colab-badge.svg\" alt=\"Open In Colab\"/></a>"
      ]
    },
    {
      "cell_type": "markdown",
      "source": [
        "# 숫자형"
      ],
      "metadata": {
        "id": "bZim0Z_LBf-D"
      }
    },
    {
      "cell_type": "markdown",
      "source": [
        "## 숫자형이란?\n",
        "---\n",
        "\n",
        "숫자형 (number)이란 숫자 형태로 이루어진 자료형이다."
      ],
      "metadata": {
        "id": "Wbm--uRUBjlX"
      }
    },
    {
      "cell_type": "markdown",
      "source": [
        "## 숫자형은 어떻게 만들고 사용할까?\n",
        "---"
      ],
      "metadata": {
        "id": "XJmjiMxsB1mr"
      }
    },
    {
      "cell_type": "markdown",
      "source": [
        "### 정수형 (integer)\n",
        "- 정수를 뜻하는 자료형을 말합니다.\n",
        "\n",
        "    - 양의 정수\n",
        "    - 음의정수\n",
        "    - 0"
      ],
      "metadata": {
        "id": "PwKFZZYIB6DR"
      }
    },
    {
      "cell_type": "code",
      "execution_count": null,
      "metadata": {
        "id": "iTLRpZpCA9bT"
      },
      "outputs": [],
      "source": [
        "a = 123 # a 라는 변수에 123이라는 숫자를 할당했다.\n",
        "\n",
        "b = -123\n",
        "\n",
        "c = 0"
      ]
    },
    {
      "cell_type": "code",
      "source": [
        "print(a)\n",
        "print(b)\n",
        "print(c)"
      ],
      "metadata": {
        "colab": {
          "base_uri": "https://localhost:8080/"
        },
        "id": "Nnxjif7bCec_",
        "outputId": "5d6ed130-940e-478c-a196-680625c9ae48"
      },
      "execution_count": null,
      "outputs": [
        {
          "output_type": "stream",
          "name": "stdout",
          "text": [
            "123\n",
            "-123\n",
            "0\n"
          ]
        }
      ]
    },
    {
      "cell_type": "code",
      "source": [
        "print(type(a))\n",
        "print(type(b))\n",
        "print(type(c))"
      ],
      "metadata": {
        "colab": {
          "base_uri": "https://localhost:8080/"
        },
        "id": "EAkH-EjfDDPy",
        "outputId": "fe1ec09b-0b5c-45e5-eeee-591cd66d9390"
      },
      "execution_count": null,
      "outputs": [
        {
          "output_type": "stream",
          "name": "stdout",
          "text": [
            "<class 'int'>\n",
            "<class 'int'>\n",
            "<class 'int'>\n"
          ]
        }
      ]
    },
    {
      "cell_type": "markdown",
      "source": [
        "### 실수형\n",
        "- 파이썬에서 실수형 (Float)은 소수점을 포함한 숫자를 의미합니다."
      ],
      "metadata": {
        "id": "3wf2X0_dCqqS"
      }
    },
    {
      "cell_type": "code",
      "source": [
        "d = 1.2\n",
        "\n",
        "e = -2.3"
      ],
      "metadata": {
        "id": "YerWsN8OCXg9"
      },
      "execution_count": null,
      "outputs": []
    },
    {
      "cell_type": "code",
      "source": [
        "print(d)\n",
        "print(e)"
      ],
      "metadata": {
        "colab": {
          "base_uri": "https://localhost:8080/"
        },
        "id": "-CKPUrqgC3x3",
        "outputId": "48eab736-46d0-4b5b-85e8-fdccf22223fc"
      },
      "execution_count": null,
      "outputs": [
        {
          "output_type": "stream",
          "name": "stdout",
          "text": [
            "1.2\n",
            "-2.3\n"
          ]
        }
      ]
    },
    {
      "cell_type": "code",
      "source": [
        "print(type(d))\n",
        "print(type(e))"
      ],
      "metadata": {
        "colab": {
          "base_uri": "https://localhost:8080/"
        },
        "id": "6Dgo3ynJC3s8",
        "outputId": "34598cb8-6d09-4eca-b369-e13e2a75ccf9"
      },
      "execution_count": null,
      "outputs": [
        {
          "output_type": "stream",
          "name": "stdout",
          "text": [
            "<class 'float'>\n",
            "<class 'float'>\n"
          ]
        }
      ]
    },
    {
      "cell_type": "markdown",
      "source": [
        "## 숫자형을 활용하기 위한 연산자\n",
        "---"
      ],
      "metadata": {
        "id": "azc-tZcCDeM5"
      }
    },
    {
      "cell_type": "markdown",
      "source": [
        "### 사칙연산\n",
        "- +, - , X, % 와 같은 기호를 사용해서 연산을 진행하는데요.\n",
        "- 파이썬은 비슷하지만, 조금 다른 기호를 사용해서 연산을 진행합니다."
      ],
      "metadata": {
        "id": "tYQV203ZDi8K"
      }
    },
    {
      "cell_type": "code",
      "source": [
        "a = 3\n",
        "b = 4"
      ],
      "metadata": {
        "id": "LT20Zbz7C3qU"
      },
      "execution_count": null,
      "outputs": []
    },
    {
      "cell_type": "code",
      "source": [
        "print(a, b)"
      ],
      "metadata": {
        "colab": {
          "base_uri": "https://localhost:8080/"
        },
        "id": "uOsBA5blC3kr",
        "outputId": "2e8544d1-9562-4659-fd40-389bbd01c6cf"
      },
      "execution_count": null,
      "outputs": [
        {
          "output_type": "stream",
          "name": "stdout",
          "text": [
            "3 4\n"
          ]
        }
      ]
    },
    {
      "cell_type": "code",
      "source": [
        "# 덧셈 +\n",
        "a + b # 3 + 4"
      ],
      "metadata": {
        "colab": {
          "base_uri": "https://localhost:8080/"
        },
        "id": "Fw_bf2bwC3ia",
        "outputId": "9bb7b647-e6c1-455f-b05b-ca5e076f05a2"
      },
      "execution_count": null,
      "outputs": [
        {
          "output_type": "execute_result",
          "data": {
            "text/plain": [
              "7"
            ]
          },
          "metadata": {},
          "execution_count": 10
        }
      ]
    },
    {
      "cell_type": "code",
      "source": [
        "# 뺄셈 -\n",
        "a - b"
      ],
      "metadata": {
        "colab": {
          "base_uri": "https://localhost:8080/"
        },
        "id": "Ypt1b_Y4C3dK",
        "outputId": "0ff1b954-1e4f-460d-b1ba-438bd9fd88a4"
      },
      "execution_count": null,
      "outputs": [
        {
          "output_type": "execute_result",
          "data": {
            "text/plain": [
              "-1"
            ]
          },
          "metadata": {},
          "execution_count": 11
        }
      ]
    },
    {
      "cell_type": "code",
      "source": [
        "# 곱셈 *\n",
        "a * b"
      ],
      "metadata": {
        "colab": {
          "base_uri": "https://localhost:8080/"
        },
        "id": "-qJKEFjgEDIz",
        "outputId": "ed3f0883-01a5-40ca-a791-7fedfa936cb4"
      },
      "execution_count": null,
      "outputs": [
        {
          "output_type": "execute_result",
          "data": {
            "text/plain": [
              "12"
            ]
          },
          "metadata": {},
          "execution_count": 12
        }
      ]
    },
    {
      "cell_type": "code",
      "source": [
        "# 나눗셈 /\n",
        "a / b"
      ],
      "metadata": {
        "colab": {
          "base_uri": "https://localhost:8080/"
        },
        "id": "IZUVhRNpELBS",
        "outputId": "39bfd3cf-adeb-4e4f-96b6-39ac58ffaf74"
      },
      "execution_count": null,
      "outputs": [
        {
          "output_type": "execute_result",
          "data": {
            "text/plain": [
              "0.75"
            ]
          },
          "metadata": {},
          "execution_count": 13
        }
      ]
    },
    {
      "cell_type": "markdown",
      "source": [
        "### 제곱\n",
        "- `**` 라는 연산자를 활용해서 제곱 연산을 진행합니다."
      ],
      "metadata": {
        "id": "URHPQ4gBEe8v"
      }
    },
    {
      "cell_type": "code",
      "source": [
        "# 제곱 **\n",
        "a ** b # 3 ^ 4 = 3 * 3 * 3 * 3"
      ],
      "metadata": {
        "colab": {
          "base_uri": "https://localhost:8080/"
        },
        "id": "0rqjMnc9EK8M",
        "outputId": "7a255812-2303-48df-8a0c-888c1d5b87fb"
      },
      "execution_count": null,
      "outputs": [
        {
          "output_type": "execute_result",
          "data": {
            "text/plain": [
              "81"
            ]
          },
          "metadata": {},
          "execution_count": 14
        }
      ]
    },
    {
      "cell_type": "markdown",
      "source": [
        "### % 연산자\n",
        "- 나눗셈 후 나머지를 반환하는 연산자"
      ],
      "metadata": {
        "id": "GoDyBpXuE6ye"
      }
    },
    {
      "cell_type": "code",
      "source": [
        "7 % 3 # 몫은 2, 나머지 1"
      ],
      "metadata": {
        "colab": {
          "base_uri": "https://localhost:8080/"
        },
        "id": "R2bhHC6tEK3b",
        "outputId": "e361e08f-6b87-48a4-dc0f-af32d3e2b5a3"
      },
      "execution_count": null,
      "outputs": [
        {
          "output_type": "execute_result",
          "data": {
            "text/plain": [
              "1"
            ]
          },
          "metadata": {},
          "execution_count": 15
        }
      ]
    },
    {
      "cell_type": "code",
      "source": [
        "3 % 7 # 몫은 0, 나머지는 3"
      ],
      "metadata": {
        "colab": {
          "base_uri": "https://localhost:8080/"
        },
        "id": "xc0Bu4Z3EK1U",
        "outputId": "8cd684c6-1296-4828-f508-a2c2e9e8c093"
      },
      "execution_count": null,
      "outputs": [
        {
          "output_type": "execute_result",
          "data": {
            "text/plain": [
              "3"
            ]
          },
          "metadata": {},
          "execution_count": 16
        }
      ]
    },
    {
      "cell_type": "markdown",
      "source": [
        "### // 연산자\n",
        "\n",
        "- `/` 연산자를 사용하면 나누기 연산자\n",
        "- `//` 연산자를 사용하면 몫을 반환하는 연산자"
      ],
      "metadata": {
        "id": "619A99apFR-x"
      }
    },
    {
      "cell_type": "code",
      "source": [
        "7 / 4"
      ],
      "metadata": {
        "colab": {
          "base_uri": "https://localhost:8080/"
        },
        "id": "WRhpkzSWEKxq",
        "outputId": "34d1968e-8304-4019-886c-83a6cfd94ef1"
      },
      "execution_count": null,
      "outputs": [
        {
          "output_type": "execute_result",
          "data": {
            "text/plain": [
              "1.75"
            ]
          },
          "metadata": {},
          "execution_count": 17
        }
      ]
    },
    {
      "cell_type": "code",
      "source": [
        "7 // 4"
      ],
      "metadata": {
        "colab": {
          "base_uri": "https://localhost:8080/"
        },
        "id": "XXdzTIRfFf_L",
        "outputId": "ba041056-91fb-4552-a48d-bd215874c190"
      },
      "execution_count": null,
      "outputs": [
        {
          "output_type": "execute_result",
          "data": {
            "text/plain": [
              "1"
            ]
          },
          "metadata": {},
          "execution_count": 18
        }
      ]
    },
    {
      "cell_type": "markdown",
      "source": [
        "### 연습문제\n",
        "\n",
        "a, b 라는 변수에 각각 1, 2을 대입하고\n",
        "\n",
        "각각 더하고, 빼고, 곱하고, 나누고, 제곱, 몫과 나머지를 각각 뽑는 연산을 진행해보세요."
      ],
      "metadata": {
        "id": "FM2zeqwFFxSn"
      }
    },
    {
      "cell_type": "code",
      "source": [
        "a = 1\n",
        "b = 2"
      ],
      "metadata": {
        "id": "171w9KTrFhnu"
      },
      "execution_count": null,
      "outputs": []
    },
    {
      "cell_type": "code",
      "source": [
        "a + b"
      ],
      "metadata": {
        "colab": {
          "base_uri": "https://localhost:8080/"
        },
        "id": "a7zJXvkEHJvS",
        "outputId": "0dc03582-2721-4d7a-f0f9-474a90acedbf"
      },
      "execution_count": null,
      "outputs": [
        {
          "output_type": "execute_result",
          "data": {
            "text/plain": [
              "3"
            ]
          },
          "metadata": {},
          "execution_count": 21
        }
      ]
    },
    {
      "cell_type": "code",
      "source": [
        "a - b"
      ],
      "metadata": {
        "colab": {
          "base_uri": "https://localhost:8080/"
        },
        "id": "S3fRdCAJHXAo",
        "outputId": "70461637-f7b1-4d2c-d478-7d2e06dc8f3d"
      },
      "execution_count": null,
      "outputs": [
        {
          "output_type": "execute_result",
          "data": {
            "text/plain": [
              "-1"
            ]
          },
          "metadata": {},
          "execution_count": 22
        }
      ]
    },
    {
      "cell_type": "code",
      "source": [
        "a * b"
      ],
      "metadata": {
        "colab": {
          "base_uri": "https://localhost:8080/"
        },
        "id": "nT8XV5bLHdF-",
        "outputId": "ce65b4fe-08e6-4766-9082-d37f2badeec5"
      },
      "execution_count": null,
      "outputs": [
        {
          "output_type": "execute_result",
          "data": {
            "text/plain": [
              "2"
            ]
          },
          "metadata": {},
          "execution_count": 23
        }
      ]
    },
    {
      "cell_type": "code",
      "source": [
        "a / b"
      ],
      "metadata": {
        "colab": {
          "base_uri": "https://localhost:8080/"
        },
        "id": "Rg5txbSrHd8q",
        "outputId": "3ef628be-ae43-48ec-809f-2bc2d380eaeb"
      },
      "execution_count": null,
      "outputs": [
        {
          "output_type": "execute_result",
          "data": {
            "text/plain": [
              "0.5"
            ]
          },
          "metadata": {},
          "execution_count": 24
        }
      ]
    },
    {
      "cell_type": "code",
      "source": [
        "a ** b"
      ],
      "metadata": {
        "colab": {
          "base_uri": "https://localhost:8080/"
        },
        "id": "F9J14jM9Hez2",
        "outputId": "09fb697a-f000-453a-afdb-05f8bfabf0c9"
      },
      "execution_count": null,
      "outputs": [
        {
          "output_type": "execute_result",
          "data": {
            "text/plain": [
              "1"
            ]
          },
          "metadata": {},
          "execution_count": 25
        }
      ]
    },
    {
      "cell_type": "code",
      "source": [
        "a % b"
      ],
      "metadata": {
        "colab": {
          "base_uri": "https://localhost:8080/"
        },
        "id": "f84q7a8kHfb8",
        "outputId": "03c7495a-ecce-4e1d-dedd-d93ce4835bd8"
      },
      "execution_count": null,
      "outputs": [
        {
          "output_type": "execute_result",
          "data": {
            "text/plain": [
              "1"
            ]
          },
          "metadata": {},
          "execution_count": 26
        }
      ]
    },
    {
      "cell_type": "code",
      "source": [
        "a // b"
      ],
      "metadata": {
        "colab": {
          "base_uri": "https://localhost:8080/"
        },
        "id": "pwNT3mW3HgH3",
        "outputId": "849fc74f-ce10-47b8-bb1d-779c444d1229"
      },
      "execution_count": null,
      "outputs": [
        {
          "output_type": "execute_result",
          "data": {
            "text/plain": [
              "0"
            ]
          },
          "metadata": {},
          "execution_count": 27
        }
      ]
    },
    {
      "cell_type": "markdown",
      "source": [
        "# 문자열 자료형"
      ],
      "metadata": {
        "id": "1pZPEXEYKCVQ"
      }
    },
    {
      "cell_type": "markdown",
      "source": [
        "## 문자열이란?\n",
        "---\n",
        "\n",
        "문자열 (String)이란, 문자, 단어 등으로 구성된 문자들의 집합\n",
        "\n",
        "```\n",
        "\"Life is too short, You need Python.\"\n",
        "\"a\"\n",
        "\"123\"\n",
        "```"
      ],
      "metadata": {
        "id": "m9Z5mVuLKylL"
      }
    },
    {
      "cell_type": "markdown",
      "source": [
        "## 문자열은 어떻게 만들고 사용할까요??"
      ],
      "metadata": {
        "id": "hAC017OVLMtC"
      }
    },
    {
      "cell_type": "markdown",
      "source": [
        "### 1. 큰따옴표 `\"` 로 양쪽을 둘러싸기"
      ],
      "metadata": {
        "id": "BD1A-0IkLRAX"
      }
    },
    {
      "cell_type": "code",
      "source": [
        "print(\"Hello World\")"
      ],
      "metadata": {
        "colab": {
          "base_uri": "https://localhost:8080/"
        },
        "id": "o5AP4RXLKxh_",
        "outputId": "1eb683b9-f41d-4160-a214-8fd668cc1b30"
      },
      "execution_count": null,
      "outputs": [
        {
          "output_type": "stream",
          "name": "stdout",
          "text": [
            "Hello World\n"
          ]
        }
      ]
    },
    {
      "cell_type": "markdown",
      "source": [
        "### 작은 따옴표 `'`로 양쪽 둘러싸기"
      ],
      "metadata": {
        "id": "hEyPwadqLZ7F"
      }
    },
    {
      "cell_type": "code",
      "source": [
        "print('안녕하세요~:) 저는 이호진이라고 합니다.')"
      ],
      "metadata": {
        "colab": {
          "base_uri": "https://localhost:8080/"
        },
        "id": "pNM1tU_7K0gi",
        "outputId": "e2e6b57b-d3ee-4339-a68e-322854bce96c"
      },
      "execution_count": null,
      "outputs": [
        {
          "output_type": "stream",
          "name": "stdout",
          "text": [
            "안녕하세요~:) 저는 이호진이라고 합니다.\n"
          ]
        }
      ]
    },
    {
      "cell_type": "markdown",
      "source": [
        "### 큰따옴표 3개 연속(`\"\"\"`) 으로 써서 둘러싸기\n",
        "### 작은따옴표 3개 연속(`'''`) 으로 써서 둘러싸기"
      ],
      "metadata": {
        "id": "moHD_6vNLlll"
      }
    },
    {
      "cell_type": "markdown",
      "source": [
        "### 문자열 안에 작은따옴표나 큰 따옴표를 포함하고 싶을때?"
      ],
      "metadata": {
        "id": "JaB1hhyXL2Dx"
      }
    },
    {
      "cell_type": "markdown",
      "source": [
        "1. 문자열에 작은 따옴표 포함시키기\n",
        "\n",
        "```\n",
        "Python's favorite food is perl.\n",
        "```"
      ],
      "metadata": {
        "id": "0_16nrGVL7hi"
      }
    },
    {
      "cell_type": "code",
      "source": [
        "food = \"Python's favorite food is perl.\""
      ],
      "metadata": {
        "id": "j9LoyeMwK1RF"
      },
      "execution_count": null,
      "outputs": []
    },
    {
      "cell_type": "code",
      "source": [
        "print(food)"
      ],
      "metadata": {
        "colab": {
          "base_uri": "https://localhost:8080/"
        },
        "id": "QieOKiFxMTok",
        "outputId": "5ee910c5-b776-49bf-962a-676afc0332b7"
      },
      "execution_count": null,
      "outputs": [
        {
          "output_type": "stream",
          "name": "stdout",
          "text": [
            "Python's favorite food is perl.\n"
          ]
        }
      ]
    },
    {
      "cell_type": "code",
      "source": [
        "food = 'Python's favorite food is perl.'"
      ],
      "metadata": {
        "colab": {
          "base_uri": "https://localhost:8080/",
          "height": 134
        },
        "id": "9zCa7SmzK1Oo",
        "outputId": "ba6314c3-7771-497c-e468-575889ab2e20"
      },
      "execution_count": null,
      "outputs": [
        {
          "output_type": "error",
          "ename": "SyntaxError",
          "evalue": "ignored",
          "traceback": [
            "\u001b[0;36m  File \u001b[0;32m\"<ipython-input-32-5e548d8d1c4a>\"\u001b[0;36m, line \u001b[0;32m1\u001b[0m\n\u001b[0;31m    food = 'Python's favorite food is perl.'\u001b[0m\n\u001b[0m                   ^\u001b[0m\n\u001b[0;31mSyntaxError\u001b[0m\u001b[0;31m:\u001b[0m invalid syntax\n"
          ]
        }
      ]
    },
    {
      "cell_type": "markdown",
      "source": [
        "### 문자열에 큰 따옴표를 포함시키면 됩니다.\n",
        "\n",
        "```\n",
        "\"Python is very easy.\" he says.\n",
        "```"
      ],
      "metadata": {
        "id": "1qyb1AMiMjl8"
      }
    },
    {
      "cell_type": "code",
      "source": [
        "say = '\"Python is very easy.\" he says.'"
      ],
      "metadata": {
        "id": "juehvycgK1MB"
      },
      "execution_count": null,
      "outputs": []
    },
    {
      "cell_type": "code",
      "source": [
        "print(say)"
      ],
      "metadata": {
        "colab": {
          "base_uri": "https://localhost:8080/"
        },
        "id": "o0-Y-ogEK1IG",
        "outputId": "c158b26b-50ba-4faf-de56-8a118e4fb23a"
      },
      "execution_count": null,
      "outputs": [
        {
          "output_type": "stream",
          "name": "stdout",
          "text": [
            "\"Python is very easy.\" he says.\n"
          ]
        }
      ]
    },
    {
      "cell_type": "markdown",
      "source": [
        "### 백슬래시(\\)를 사용해서 작은따옴표 (') 와 큰 따옴표(\")를 문자열에 포함시킬 수 있습니다."
      ],
      "metadata": {
        "id": "Yi2GXOHfM6u9"
      }
    },
    {
      "cell_type": "code",
      "source": [
        "food = 'Python\\'s favorite food is perl.'"
      ],
      "metadata": {
        "id": "RX408psGK1Ff"
      },
      "execution_count": null,
      "outputs": []
    },
    {
      "cell_type": "code",
      "source": [
        "say = \"\\\"Python is very easy.\\\" he says.\""
      ],
      "metadata": {
        "id": "jbwGWUS5K1DE"
      },
      "execution_count": null,
      "outputs": []
    },
    {
      "cell_type": "code",
      "source": [
        "print(food)\n",
        "print(say)"
      ],
      "metadata": {
        "colab": {
          "base_uri": "https://localhost:8080/"
        },
        "id": "c86IGkU0K1Ak",
        "outputId": "ed038a7d-4af2-4c37-ee4c-1c01e007af9d"
      },
      "execution_count": null,
      "outputs": [
        {
          "output_type": "stream",
          "name": "stdout",
          "text": [
            "Python's favorite food is perl.\n",
            "\"Python is very easy.\" he says.\n"
          ]
        }
      ]
    },
    {
      "cell_type": "markdown",
      "source": [
        "## 여러 줄인 문자열을 변수에 대입하고 싶을 때\n",
        "\n",
        "```\n",
        "Life is too short\n",
        "You need python\n",
        "```"
      ],
      "metadata": {
        "id": "9rXNZauGNhmc"
      }
    },
    {
      "cell_type": "markdown",
      "source": [
        "### 1. 줄 바꾸기를 위한 이스케이프 코드 `\\n` 삽입"
      ],
      "metadata": {
        "id": "ZnAyYfhJNrx4"
      }
    },
    {
      "cell_type": "code",
      "source": [
        "multiline = \"Life is too short\\nYou need python\""
      ],
      "metadata": {
        "id": "rg385hSpK097"
      },
      "execution_count": null,
      "outputs": []
    },
    {
      "cell_type": "code",
      "source": [
        "print(multiline)"
      ],
      "metadata": {
        "colab": {
          "base_uri": "https://localhost:8080/"
        },
        "id": "S9naWv2KK07d",
        "outputId": "3766e696-9feb-48aa-e7dd-b2c1c2d388a9"
      },
      "execution_count": null,
      "outputs": [
        {
          "output_type": "stream",
          "name": "stdout",
          "text": [
            "Life is too short\n",
            "You need python\n"
          ]
        }
      ]
    },
    {
      "cell_type": "markdown",
      "source": [
        "### 2. 연속된 작은 따옴표 3개 / 큰 따옴표 3개 사용"
      ],
      "metadata": {
        "id": "XDo9AbOfOJXB"
      }
    },
    {
      "cell_type": "code",
      "source": [
        "multiline1 = '''\n",
        "Life is too short\n",
        "You need python\n",
        "'''"
      ],
      "metadata": {
        "id": "InM11vd5K05W"
      },
      "execution_count": null,
      "outputs": []
    },
    {
      "cell_type": "code",
      "source": [
        "print(multiline1)"
      ],
      "metadata": {
        "colab": {
          "base_uri": "https://localhost:8080/"
        },
        "id": "DL-NDq7wK03D",
        "outputId": "1a5e4eb1-e2a3-46fd-a049-379f66cdb1fc"
      },
      "execution_count": null,
      "outputs": [
        {
          "output_type": "stream",
          "name": "stdout",
          "text": [
            "\n",
            "Life is too short\n",
            "You need python\n",
            "\n"
          ]
        }
      ]
    },
    {
      "cell_type": "code",
      "source": [
        "multiline2 = \"\"\"\n",
        "Life is too short\n",
        "You need python\n",
        "\"\"\""
      ],
      "metadata": {
        "id": "G6JlDMlbK00x"
      },
      "execution_count": null,
      "outputs": []
    },
    {
      "cell_type": "code",
      "source": [
        "print(multiline2)"
      ],
      "metadata": {
        "colab": {
          "base_uri": "https://localhost:8080/"
        },
        "id": "0xw7T1DjK0yh",
        "outputId": "abb1a0d4-1982-41f8-9183-bced7a9a054b"
      },
      "execution_count": null,
      "outputs": [
        {
          "output_type": "stream",
          "name": "stdout",
          "text": [
            "\n",
            "Life is too short\n",
            "You need python\n",
            "\n"
          ]
        }
      ]
    },
    {
      "cell_type": "markdown",
      "source": [
        "### 이스케이프 코드란?\n",
        "\n",
        "- \\n : 문자열 안에서 줄을 바꿀 때 사용\n",
        "- \\t : 문자열 사이에 탭 간격을 줄 때 사용\n",
        "- \\\\ : 문자 `\\` 를 그대로 표현할 때 사용\n",
        "- \\' : 작은 따옴표 `'`를 그대로 표현할 때 사용\n",
        "- \\\" : 큰 따옴표 `\"`를 그대로 표현할 때 사용\n",
        "- \\r : 캐리지 리턴 (줄 바꿈 문자, 현재 커서를 가장 앞으로 이동)\n",
        "- \\f : 폼피드 (줄 바꿈 문자, 현재 커서를 다음 줄로 이동)\n",
        "- \\a : 벨 소리 (출력할 떄 PC 스피커에서 '삑' 소리를 냅니다.)\n",
        "- \\b : 백 스페이스\n",
        "- \\000 : 널 문자\n",
        "\n",
        "이 중에서 활용 빈도가 높은 것은 -> \\n, \\t, \\\\, \\'. \\\""
      ],
      "metadata": {
        "id": "lO3QEgY8Ol7x"
      }
    },
    {
      "cell_type": "markdown",
      "source": [
        "## 문자열 연산\n",
        "---\n",
        "파이썬에서는 문자열을 더하거나 곱할 수 있습니다.\n",
        "\n",
        "다른 언어에서는 쉽게 찾아볼 수 없는 재밋는 기능으로, 우리 생각을 그대로 반영해주는 파이썬의 장점이라고도 볼 수 있습니다."
      ],
      "metadata": {
        "id": "Yq8ms7zImZSj"
      }
    },
    {
      "cell_type": "markdown",
      "source": [
        "### 문자열을 더해서 연결하기"
      ],
      "metadata": {
        "id": "-XdLx6Uemr4W"
      }
    },
    {
      "cell_type": "code",
      "source": [
        "head = \"Python\"\n",
        "tail = \" is fun!\"\n",
        "head + tail"
      ],
      "metadata": {
        "colab": {
          "base_uri": "https://localhost:8080/",
          "height": 36
        },
        "id": "NPFlKepkK0wP",
        "outputId": "de08113e-d19b-40e4-c150-3478827eb970"
      },
      "execution_count": null,
      "outputs": [
        {
          "output_type": "execute_result",
          "data": {
            "text/plain": [
              "'Python is fun!'"
            ],
            "application/vnd.google.colaboratory.intrinsic+json": {
              "type": "string"
            }
          },
          "metadata": {},
          "execution_count": 49
        }
      ]
    },
    {
      "cell_type": "markdown",
      "source": [
        "### 문자열 곱하기"
      ],
      "metadata": {
        "id": "kGW42Xx7m8A3"
      }
    },
    {
      "cell_type": "code",
      "source": [
        "a = \"Python\"\n",
        "\n",
        "a * 2"
      ],
      "metadata": {
        "colab": {
          "base_uri": "https://localhost:8080/",
          "height": 36
        },
        "id": "IXzJp5PcK0tw",
        "outputId": "5cd598f3-6536-4d67-dd9c-bca2fcea854b"
      },
      "execution_count": null,
      "outputs": [
        {
          "output_type": "execute_result",
          "data": {
            "text/plain": [
              "'PythonPython'"
            ],
            "application/vnd.google.colaboratory.intrinsic+json": {
              "type": "string"
            }
          },
          "metadata": {},
          "execution_count": 50
        }
      ]
    },
    {
      "cell_type": "markdown",
      "source": [
        "-> 위의 소스코드에서 *의 의미는 우리가 일반적으로 사용하는 숫자 곱하기의 의미와 다르다.\n",
        "위 소스코드에서 a * 2 문장은 a를 2번 반복하라. 라는 뜻이다.\n",
        "\n",
        "즉, *는 문자열의 반복을 뜻하는 의미로 사용되었다."
      ],
      "metadata": {
        "id": "6JIb-_mHnDa-"
      }
    },
    {
      "cell_type": "markdown",
      "source": [
        "### 문자열 곱하기 응용"
      ],
      "metadata": {
        "id": "28tHbeQjnXtw"
      }
    },
    {
      "cell_type": "code",
      "source": [
        "print(\"=\" * 50)\n",
        "print(\"My Program\")\n",
        "print(\"=\" * 50)"
      ],
      "metadata": {
        "colab": {
          "base_uri": "https://localhost:8080/"
        },
        "id": "wW0fuzBwK0pX",
        "outputId": "80c59c15-997e-493e-bb50-30772ed482e3"
      },
      "execution_count": null,
      "outputs": [
        {
          "output_type": "stream",
          "name": "stdout",
          "text": [
            "==================================================\n",
            "My Program\n",
            "==================================================\n"
          ]
        }
      ]
    },
    {
      "cell_type": "markdown",
      "source": [
        "### 문자열 길이 구하기\n",
        "\n",
        "- len() 함수를 사용하면 문자열의 길이를 구할 수 있습니다."
      ],
      "metadata": {
        "id": "WKMdJLcynqf4"
      }
    },
    {
      "cell_type": "code",
      "source": [
        "a = \"Life is too short.\"\n",
        "\n",
        "len(a)"
      ],
      "metadata": {
        "colab": {
          "base_uri": "https://localhost:8080/"
        },
        "id": "ZNP5_klSK0m5",
        "outputId": "ed17de99-5099-4fd2-e56d-731b3d10ed26"
      },
      "execution_count": null,
      "outputs": [
        {
          "output_type": "execute_result",
          "data": {
            "text/plain": [
              "18"
            ]
          },
          "metadata": {},
          "execution_count": 53
        }
      ]
    },
    {
      "cell_type": "markdown",
      "source": [
        "## 문자열 인덱싱과 슬라이싱\n",
        "---\n",
        "\n",
        "인덱싱 (Indexing)이란 무엇인가를 \"가리킨다\"를 의미하고,\n",
        "\n",
        "슬라이싱 (Slicing) 이란 무엇인가를 \"잘라낸다\"를 의미합니다."
      ],
      "metadata": {
        "id": "PszVHBWqn-FA"
      }
    },
    {
      "cell_type": "markdown",
      "source": [
        "### 문자열 인덱싱"
      ],
      "metadata": {
        "id": "R1bFPU4ToPDH"
      }
    },
    {
      "cell_type": "code",
      "source": [
        "a = \"Life is too short, You need Python.\""
      ],
      "metadata": {
        "id": "eaebxcFgK0kn"
      },
      "execution_count": null,
      "outputs": []
    },
    {
      "cell_type": "markdown",
      "source": [
        "# \"Life is too short, You need Python.\"\n",
        "\n",
        "# \"0123 56 789 101112131415 1617178 192021 2223242526272829\""
      ],
      "metadata": {
        "id": "eXXtXNJkoYXg"
      }
    },
    {
      "cell_type": "code",
      "source": [
        "a[0] # a라는 문자열에서 첫번째 문자를 인덱싱"
      ],
      "metadata": {
        "colab": {
          "base_uri": "https://localhost:8080/",
          "height": 36
        },
        "id": "QUdqkPoHK0if",
        "outputId": "379bd99c-51a0-450a-c79c-c15a2697dd7a"
      },
      "execution_count": null,
      "outputs": [
        {
          "output_type": "execute_result",
          "data": {
            "text/plain": [
              "'L'"
            ],
            "application/vnd.google.colaboratory.intrinsic+json": {
              "type": "string"
            }
          },
          "metadata": {},
          "execution_count": 55
        }
      ]
    },
    {
      "cell_type": "code",
      "source": [
        "a[3]"
      ],
      "metadata": {
        "colab": {
          "base_uri": "https://localhost:8080/",
          "height": 36
        },
        "id": "ythh8Ua5Wo4A",
        "outputId": "06bb5669-474e-451e-ed13-8a6f84665a94"
      },
      "execution_count": null,
      "outputs": [
        {
          "output_type": "execute_result",
          "data": {
            "text/plain": [
              "'e'"
            ],
            "application/vnd.google.colaboratory.intrinsic+json": {
              "type": "string"
            }
          },
          "metadata": {},
          "execution_count": 56
        }
      ]
    },
    {
      "cell_type": "code",
      "source": [
        "a[19]"
      ],
      "metadata": {
        "colab": {
          "base_uri": "https://localhost:8080/",
          "height": 36
        },
        "id": "56Yh1hXHWo2F",
        "outputId": "0fcf1a18-0b34-4ccd-c082-051ee6470a98"
      },
      "execution_count": null,
      "outputs": [
        {
          "output_type": "execute_result",
          "data": {
            "text/plain": [
              "'Y'"
            ],
            "application/vnd.google.colaboratory.intrinsic+json": {
              "type": "string"
            }
          },
          "metadata": {},
          "execution_count": 60
        }
      ]
    },
    {
      "cell_type": "markdown",
      "source": [
        "-> 인덱싱 과정에서 \"파이썬은 0부터 숫자를 샌다.\""
      ],
      "metadata": {
        "id": "Feitpvy6pLe7"
      }
    },
    {
      "cell_type": "code",
      "source": [
        "a[-1]"
      ],
      "metadata": {
        "colab": {
          "base_uri": "https://localhost:8080/",
          "height": 36
        },
        "id": "MKq2WiA8Wopy",
        "outputId": "603f0988-4dfc-42e6-e0e8-c253fdf5a213"
      },
      "execution_count": null,
      "outputs": [
        {
          "output_type": "execute_result",
          "data": {
            "text/plain": [
              "'.'"
            ],
            "application/vnd.google.colaboratory.intrinsic+json": {
              "type": "string"
            }
          },
          "metadata": {},
          "execution_count": 61
        }
      ]
    },
    {
      "cell_type": "code",
      "source": [
        "a[-0]"
      ],
      "metadata": {
        "colab": {
          "base_uri": "https://localhost:8080/",
          "height": 36
        },
        "id": "2tacxQpOWomx",
        "outputId": "8590b591-8307-4e9a-cf81-8807400085d4"
      },
      "execution_count": null,
      "outputs": [
        {
          "output_type": "execute_result",
          "data": {
            "text/plain": [
              "'L'"
            ],
            "application/vnd.google.colaboratory.intrinsic+json": {
              "type": "string"
            }
          },
          "metadata": {},
          "execution_count": 62
        }
      ]
    },
    {
      "cell_type": "code",
      "source": [
        "a[-2]"
      ],
      "metadata": {
        "colab": {
          "base_uri": "https://localhost:8080/",
          "height": 36
        },
        "id": "MzX4Bc7JWokK",
        "outputId": "aa8ef44f-e915-4f88-9475-6dbbacb3c4b1"
      },
      "execution_count": null,
      "outputs": [
        {
          "output_type": "execute_result",
          "data": {
            "text/plain": [
              "'n'"
            ],
            "application/vnd.google.colaboratory.intrinsic+json": {
              "type": "string"
            }
          },
          "metadata": {},
          "execution_count": 63
        }
      ]
    },
    {
      "cell_type": "markdown",
      "source": [
        "### 문자열 슬라이싱이란?\n",
        "\n",
        "예를 들어서 a = \"Life is too short, You need Python.\" 라는 문자열에서 단순히 한 문자만을 뽑아내는 것이 아니라, 'Life', 'You' 같은 단어를 뽑아내는 것을 슬라이싱이라고 합니다."
      ],
      "metadata": {
        "id": "jArZ-ODVpkaX"
      }
    },
    {
      "cell_type": "code",
      "source": [
        "a = \"Life is too short, You need Python.\""
      ],
      "metadata": {
        "id": "PgmyjiFIWobA"
      },
      "execution_count": null,
      "outputs": []
    },
    {
      "cell_type": "code",
      "source": [
        "b = a[0] + a[1] + a[2] + a[3]\n",
        "\n",
        "b"
      ],
      "metadata": {
        "colab": {
          "base_uri": "https://localhost:8080/",
          "height": 36
        },
        "id": "YBR814Vip1ad",
        "outputId": "18c85a63-3792-4fe7-e286-a9ab2bacfb0d"
      },
      "execution_count": null,
      "outputs": [
        {
          "output_type": "execute_result",
          "data": {
            "text/plain": [
              "'Life'"
            ],
            "application/vnd.google.colaboratory.intrinsic+json": {
              "type": "string"
            }
          },
          "metadata": {},
          "execution_count": 65
        }
      ]
    },
    {
      "cell_type": "code",
      "source": [
        "a[0:3+1]"
      ],
      "metadata": {
        "colab": {
          "base_uri": "https://localhost:8080/",
          "height": 36
        },
        "id": "4L7EDp1Ep85P",
        "outputId": "3f59b716-39eb-4767-90da-1a6a0c04ee28"
      },
      "execution_count": null,
      "outputs": [
        {
          "output_type": "execute_result",
          "data": {
            "text/plain": [
              "'Life'"
            ],
            "application/vnd.google.colaboratory.intrinsic+json": {
              "type": "string"
            }
          },
          "metadata": {},
          "execution_count": 66
        }
      ]
    },
    {
      "cell_type": "code",
      "source": [
        "a[0:4] # 0 <= a < 4"
      ],
      "metadata": {
        "colab": {
          "base_uri": "https://localhost:8080/",
          "height": 36
        },
        "id": "xVP0cc9WqF8j",
        "outputId": "89a84843-f646-4176-d5f7-6818806264d8"
      },
      "execution_count": null,
      "outputs": [
        {
          "output_type": "execute_result",
          "data": {
            "text/plain": [
              "'Life'"
            ],
            "application/vnd.google.colaboratory.intrinsic+json": {
              "type": "string"
            }
          },
          "metadata": {},
          "execution_count": 67
        }
      ]
    },
    {
      "cell_type": "code",
      "source": [
        "a[19:22+1]"
      ],
      "metadata": {
        "colab": {
          "base_uri": "https://localhost:8080/",
          "height": 36
        },
        "id": "MWkfthuQqHIe",
        "outputId": "6004ec0d-e16c-44f0-e7cd-791ba4618c69"
      },
      "execution_count": null,
      "outputs": [
        {
          "output_type": "execute_result",
          "data": {
            "text/plain": [
              "'You '"
            ],
            "application/vnd.google.colaboratory.intrinsic+json": {
              "type": "string"
            }
          },
          "metadata": {},
          "execution_count": 69
        }
      ]
    },
    {
      "cell_type": "markdown",
      "source": [
        "a[시작 번호:끝 번호]"
      ],
      "metadata": {
        "id": "puOGKWmZqdSa"
      }
    },
    {
      "cell_type": "code",
      "source": [
        "a[:17]"
      ],
      "metadata": {
        "colab": {
          "base_uri": "https://localhost:8080/",
          "height": 36
        },
        "id": "1-jtUNYsqXPM",
        "outputId": "2226d62e-e947-49f5-cb1b-53a0f1bbb1c0"
      },
      "execution_count": null,
      "outputs": [
        {
          "output_type": "execute_result",
          "data": {
            "text/plain": [
              "'Life is too short'"
            ],
            "application/vnd.google.colaboratory.intrinsic+json": {
              "type": "string"
            }
          },
          "metadata": {},
          "execution_count": 70
        }
      ]
    },
    {
      "cell_type": "code",
      "source": [
        "a[:]"
      ],
      "metadata": {
        "colab": {
          "base_uri": "https://localhost:8080/",
          "height": 36
        },
        "id": "OEw6dQTFqldw",
        "outputId": "d8228006-1a32-4978-a8ca-0fa4f0b839fc"
      },
      "execution_count": null,
      "outputs": [
        {
          "output_type": "execute_result",
          "data": {
            "text/plain": [
              "'Life is too short, You need Python.'"
            ],
            "application/vnd.google.colaboratory.intrinsic+json": {
              "type": "string"
            }
          },
          "metadata": {},
          "execution_count": 71
        }
      ]
    },
    {
      "cell_type": "code",
      "source": [
        "a[19:-1]"
      ],
      "metadata": {
        "colab": {
          "base_uri": "https://localhost:8080/",
          "height": 36
        },
        "id": "WQFNPNR0qpJ_",
        "outputId": "f7ccdb7e-bb72-4b65-e349-4adfbc404238"
      },
      "execution_count": null,
      "outputs": [
        {
          "output_type": "execute_result",
          "data": {
            "text/plain": [
              "'You need Python'"
            ],
            "application/vnd.google.colaboratory.intrinsic+json": {
              "type": "string"
            }
          },
          "metadata": {},
          "execution_count": 72
        }
      ]
    },
    {
      "cell_type": "markdown",
      "source": [
        "### 슬라이싱으로 문자열 나누기"
      ],
      "metadata": {
        "id": "imaoVDItq3Fx"
      }
    },
    {
      "cell_type": "code",
      "source": [
        "a = \"20221116Sunny\""
      ],
      "metadata": {
        "id": "n_YwrM3LqujQ"
      },
      "execution_count": null,
      "outputs": []
    },
    {
      "cell_type": "code",
      "source": [
        "date = a[:7+1]\n",
        "weather = a[8:]"
      ],
      "metadata": {
        "id": "BqnDnGK4rDel"
      },
      "execution_count": null,
      "outputs": []
    },
    {
      "cell_type": "code",
      "source": [
        "print(date, weather)"
      ],
      "metadata": {
        "colab": {
          "base_uri": "https://localhost:8080/"
        },
        "id": "4wKQ9PkPrPl0",
        "outputId": "ef5b2780-1f6a-4f2b-c6fc-9477544d43d7"
      },
      "execution_count": null,
      "outputs": [
        {
          "output_type": "stream",
          "name": "stdout",
          "text": [
            "20221116 Sunny\n"
          ]
        }
      ]
    },
    {
      "cell_type": "code",
      "source": [
        "a = \"20221116Sunny\"\n",
        "\n",
        "year = a[:3+1]\n",
        "day = a[4:7+1]\n",
        "weather = a[8:]\n",
        "\n",
        "print(year, day, weather)"
      ],
      "metadata": {
        "colab": {
          "base_uri": "https://localhost:8080/"
        },
        "id": "Yhko80RErS_Q",
        "outputId": "c10535df-f712-450e-b8c3-ce2b3c302de3"
      },
      "execution_count": null,
      "outputs": [
        {
          "output_type": "stream",
          "name": "stdout",
          "text": [
            "2022 1116 Sunny\n"
          ]
        }
      ]
    },
    {
      "cell_type": "markdown",
      "source": [
        "### \"Pithon' 이라는 문자열을 \"Python\"으로 바꾸려면?"
      ],
      "metadata": {
        "id": "2VWzU0pKrthm"
      }
    },
    {
      "cell_type": "code",
      "source": [
        "a = \"Pithon\""
      ],
      "metadata": {
        "id": "AD2Dt61lrnI5"
      },
      "execution_count": null,
      "outputs": []
    },
    {
      "cell_type": "code",
      "source": [
        "a[1]"
      ],
      "metadata": {
        "colab": {
          "base_uri": "https://localhost:8080/",
          "height": 36
        },
        "id": "m6IGJIp0r6Uq",
        "outputId": "b3ec5230-6b3e-4f50-ff04-5a1040fab0de"
      },
      "execution_count": null,
      "outputs": [
        {
          "output_type": "execute_result",
          "data": {
            "text/plain": [
              "'i'"
            ],
            "application/vnd.google.colaboratory.intrinsic+json": {
              "type": "string"
            }
          },
          "metadata": {},
          "execution_count": 78
        }
      ]
    },
    {
      "cell_type": "code",
      "source": [
        "a[1] = y"
      ],
      "metadata": {
        "colab": {
          "base_uri": "https://localhost:8080/",
          "height": 170
        },
        "id": "oZMsZvTjr77S",
        "outputId": "6c1a7997-825a-4c01-968c-cb78e6b68d8b"
      },
      "execution_count": null,
      "outputs": [
        {
          "output_type": "error",
          "ename": "NameError",
          "evalue": "ignored",
          "traceback": [
            "\u001b[0;31m---------------------------------------------------------------------------\u001b[0m",
            "\u001b[0;31mNameError\u001b[0m                                 Traceback (most recent call last)",
            "\u001b[0;32m<ipython-input-79-9886eb8fe4c7>\u001b[0m in \u001b[0;36m<module>\u001b[0;34m\u001b[0m\n\u001b[0;32m----> 1\u001b[0;31m \u001b[0ma\u001b[0m\u001b[0;34m[\u001b[0m\u001b[0;36m1\u001b[0m\u001b[0;34m]\u001b[0m \u001b[0;34m=\u001b[0m \u001b[0my\u001b[0m\u001b[0;34m\u001b[0m\u001b[0;34m\u001b[0m\u001b[0m\n\u001b[0m",
            "\u001b[0;31mNameError\u001b[0m: name 'y' is not defined"
          ]
        }
      ]
    },
    {
      "cell_type": "code",
      "source": [
        "a = \"Pithon\""
      ],
      "metadata": {
        "id": "1I-Xukyar_8B"
      },
      "execution_count": null,
      "outputs": []
    },
    {
      "cell_type": "code",
      "source": [
        "a[:1]"
      ],
      "metadata": {
        "colab": {
          "base_uri": "https://localhost:8080/",
          "height": 36
        },
        "id": "CYEr4HHFsGuF",
        "outputId": "ce260293-7621-4190-9d53-bece37441f26"
      },
      "execution_count": null,
      "outputs": [
        {
          "output_type": "execute_result",
          "data": {
            "text/plain": [
              "'P'"
            ],
            "application/vnd.google.colaboratory.intrinsic+json": {
              "type": "string"
            }
          },
          "metadata": {},
          "execution_count": 81
        }
      ]
    },
    {
      "cell_type": "code",
      "source": [
        "a[2:]"
      ],
      "metadata": {
        "colab": {
          "base_uri": "https://localhost:8080/",
          "height": 36
        },
        "id": "8y1P-pMosJFq",
        "outputId": "d812c134-693a-480c-d9e7-7b1c4d51fb32"
      },
      "execution_count": null,
      "outputs": [
        {
          "output_type": "execute_result",
          "data": {
            "text/plain": [
              "'thon'"
            ],
            "application/vnd.google.colaboratory.intrinsic+json": {
              "type": "string"
            }
          },
          "metadata": {},
          "execution_count": 82
        }
      ]
    },
    {
      "cell_type": "code",
      "source": [
        "a[:1] + 'y' + a[2:]"
      ],
      "metadata": {
        "colab": {
          "base_uri": "https://localhost:8080/",
          "height": 36
        },
        "id": "4Ip5XC3ssLNq",
        "outputId": "00b3b01d-029b-4151-d696-42392bd9f8ff"
      },
      "execution_count": null,
      "outputs": [
        {
          "output_type": "execute_result",
          "data": {
            "text/plain": [
              "'Python'"
            ],
            "application/vnd.google.colaboratory.intrinsic+json": {
              "type": "string"
            }
          },
          "metadata": {},
          "execution_count": 83
        }
      ]
    },
    {
      "cell_type": "markdown",
      "source": [
        "### replace 메소드\n",
        "\n",
        "- replace(바뀌게 될 문자열, 바꿀 문자열) 처럼 사용해서 문자열 안에 특정한 값을 다른 값으로 치환"
      ],
      "metadata": {
        "id": "aK8CTY1u3Pm0"
      }
    },
    {
      "cell_type": "code",
      "source": [
        "a = \"Life is too short\"\n",
        "\n",
        "a.replace(\"Life\", \"Fall\")"
      ],
      "metadata": {
        "colab": {
          "base_uri": "https://localhost:8080/",
          "height": 36
        },
        "id": "vrIweCPxsPkP",
        "outputId": "472cf8ad-9e8a-437e-e7b7-57a132b2a65f"
      },
      "execution_count": null,
      "outputs": [
        {
          "output_type": "execute_result",
          "data": {
            "text/plain": [
              "'Fall is too short'"
            ],
            "application/vnd.google.colaboratory.intrinsic+json": {
              "type": "string"
            }
          },
          "metadata": {},
          "execution_count": 84
        }
      ]
    },
    {
      "cell_type": "markdown",
      "source": [
        "## 문자열 포매팅\n",
        "\n",
        "\"현재 온도는 18도 입니다.\"\n",
        "\n",
        "\"현재 온도는 20도 입니다.\""
      ],
      "metadata": {
        "id": "sPidajTQBz7H"
      }
    },
    {
      "cell_type": "markdown",
      "source": [
        "### 1. 숫자 바로 대입"
      ],
      "metadata": {
        "id": "e3X8GxL1CESS"
      }
    },
    {
      "cell_type": "code",
      "source": [
        "\"I eat %d apples.\" %3"
      ],
      "metadata": {
        "colab": {
          "base_uri": "https://localhost:8080/",
          "height": 36
        },
        "id": "naCGTnFFBoA8",
        "outputId": "36587ac4-e71a-4382-e153-33ffe7d5d6f4"
      },
      "execution_count": null,
      "outputs": [
        {
          "output_type": "execute_result",
          "data": {
            "text/plain": [
              "'I eat 3 apples.'"
            ],
            "application/vnd.google.colaboratory.intrinsic+json": {
              "type": "string"
            }
          },
          "metadata": {},
          "execution_count": 85
        }
      ]
    },
    {
      "cell_type": "markdown",
      "source": [
        "### 2. 문자열 바로 대입"
      ],
      "metadata": {
        "id": "2m-urBiBCVgB"
      }
    },
    {
      "cell_type": "code",
      "source": [
        "\"I eat %s apples.\" %\"five\""
      ],
      "metadata": {
        "colab": {
          "base_uri": "https://localhost:8080/",
          "height": 36
        },
        "id": "dHHfea7yBn-s",
        "outputId": "f04e7333-e6e8-4a47-e5ce-f8990e8e3f4c"
      },
      "execution_count": null,
      "outputs": [
        {
          "output_type": "execute_result",
          "data": {
            "text/plain": [
              "'I eat five apples.'"
            ],
            "application/vnd.google.colaboratory.intrinsic+json": {
              "type": "string"
            }
          },
          "metadata": {},
          "execution_count": 86
        }
      ]
    },
    {
      "cell_type": "markdown",
      "source": [
        "### 3. 숫자 값을 나타내는 변수로 대입"
      ],
      "metadata": {
        "id": "ZuB2eGN6CiPp"
      }
    },
    {
      "cell_type": "code",
      "source": [
        "number = 3\n",
        "\n",
        "\"I eat %d apples.\" %number"
      ],
      "metadata": {
        "colab": {
          "base_uri": "https://localhost:8080/",
          "height": 36
        },
        "id": "8vY08iXvBn8X",
        "outputId": "35e4a28b-3811-4a14-a2cf-e876877dd01c"
      },
      "execution_count": null,
      "outputs": [
        {
          "output_type": "execute_result",
          "data": {
            "text/plain": [
              "'I eat 3 apples.'"
            ],
            "application/vnd.google.colaboratory.intrinsic+json": {
              "type": "string"
            }
          },
          "metadata": {},
          "execution_count": 87
        }
      ]
    },
    {
      "cell_type": "markdown",
      "source": [
        "### 4. 2개 이상의 값을 넣기"
      ],
      "metadata": {
        "id": "CO3Q05EICwQo"
      }
    },
    {
      "cell_type": "code",
      "source": [
        "number = 10\n",
        "day = \"three\"\n",
        "\n",
        "\"I ate %d apples. so I was sick for %s days.\" %(number, day)"
      ],
      "metadata": {
        "colab": {
          "base_uri": "https://localhost:8080/",
          "height": 36
        },
        "id": "QTCENHhsBn6F",
        "outputId": "cc937ca4-6b49-40cb-b8f5-03cfd7d4772e"
      },
      "execution_count": null,
      "outputs": [
        {
          "output_type": "execute_result",
          "data": {
            "text/plain": [
              "'I ate 10 apples. so I was sick for three days.'"
            ],
            "application/vnd.google.colaboratory.intrinsic+json": {
              "type": "string"
            }
          },
          "metadata": {},
          "execution_count": 88
        }
      ]
    },
    {
      "cell_type": "markdown",
      "source": [
        "## 문자열 포맷 코드\n",
        "\n",
        "- %s : 문자열 (string).  \n",
        "- %d : 정수 (integer).  \n",
        "- %f : 실수 (float).  "
      ],
      "metadata": {
        "id": "o2gcArGmDG_u"
      }
    },
    {
      "cell_type": "code",
      "source": [
        "\"I have %s apples\" %3"
      ],
      "metadata": {
        "colab": {
          "base_uri": "https://localhost:8080/",
          "height": 36
        },
        "id": "CSfcZj9LBn3z",
        "outputId": "d0846677-77a5-4433-d2e9-0c4e3e587328"
      },
      "execution_count": null,
      "outputs": [
        {
          "output_type": "execute_result",
          "data": {
            "text/plain": [
              "'I have 3 apples'"
            ],
            "application/vnd.google.colaboratory.intrinsic+json": {
              "type": "string"
            }
          },
          "metadata": {},
          "execution_count": 89
        }
      ]
    },
    {
      "cell_type": "code",
      "source": [
        "\"rate is %s\" %3.234"
      ],
      "metadata": {
        "colab": {
          "base_uri": "https://localhost:8080/",
          "height": 36
        },
        "id": "MgffcDZWBn1j",
        "outputId": "86e26019-325c-4506-929c-85e906141363"
      },
      "execution_count": null,
      "outputs": [
        {
          "output_type": "execute_result",
          "data": {
            "text/plain": [
              "'rate is 3.234'"
            ],
            "application/vnd.google.colaboratory.intrinsic+json": {
              "type": "string"
            }
          },
          "metadata": {},
          "execution_count": 90
        }
      ]
    },
    {
      "cell_type": "markdown",
      "source": [
        "## 포맷 코드와 숫자 함께 사용하기"
      ],
      "metadata": {
        "id": "hblJBG6LDrip"
      }
    },
    {
      "cell_type": "markdown",
      "source": [
        "### 1. 정렬과 공백"
      ],
      "metadata": {
        "id": "Iz8-Au-lDu3h"
      }
    },
    {
      "cell_type": "code",
      "source": [
        "\"%10s\" %\"hi\""
      ],
      "metadata": {
        "colab": {
          "base_uri": "https://localhost:8080/",
          "height": 36
        },
        "id": "Elvl-qVi3k-U",
        "outputId": "598cd47b-9067-47ad-8662-9e7ccd9729e2"
      },
      "execution_count": null,
      "outputs": [
        {
          "output_type": "execute_result",
          "data": {
            "text/plain": [
              "'        hi'"
            ],
            "application/vnd.google.colaboratory.intrinsic+json": {
              "type": "string"
            }
          },
          "metadata": {},
          "execution_count": 91
        }
      ]
    },
    {
      "cell_type": "markdown",
      "source": [
        "- %10s : 전체 길이가 10인 문자열 공간에서 대입되는 값을 오른쪽으로 정렬하고 그 앞의 나머지는 공백으로 둔다."
      ],
      "metadata": {
        "id": "p9OVJtNHD4kM"
      }
    },
    {
      "cell_type": "code",
      "source": [
        "\"%-10shojin\" %\"hi\""
      ],
      "metadata": {
        "colab": {
          "base_uri": "https://localhost:8080/",
          "height": 36
        },
        "id": "0lAyKS4WBnR3",
        "outputId": "062eb97f-6822-4960-9603-e83c8ff89192"
      },
      "execution_count": null,
      "outputs": [
        {
          "output_type": "execute_result",
          "data": {
            "text/plain": [
              "'hi        hojin'"
            ],
            "application/vnd.google.colaboratory.intrinsic+json": {
              "type": "string"
            }
          },
          "metadata": {},
          "execution_count": 92
        }
      ]
    },
    {
      "cell_type": "markdown",
      "source": [
        "### 2. 소수점 표현하기"
      ],
      "metadata": {
        "id": "bbFY-H2IEIWZ"
      }
    },
    {
      "cell_type": "code",
      "source": [
        "\"%0.4f\" %3.141592"
      ],
      "metadata": {
        "colab": {
          "base_uri": "https://localhost:8080/",
          "height": 36
        },
        "id": "0yhyVlovBnQF",
        "outputId": "08fd815e-d9a5-4d1e-f547-0d5a4bc27156"
      },
      "execution_count": null,
      "outputs": [
        {
          "output_type": "execute_result",
          "data": {
            "text/plain": [
              "'3.1416'"
            ],
            "application/vnd.google.colaboratory.intrinsic+json": {
              "type": "string"
            }
          },
          "metadata": {},
          "execution_count": 93
        }
      ]
    },
    {
      "cell_type": "markdown",
      "source": [
        "- %0.xf는 소수점 x 번쨰 자리까지만 나타내고 싶은 경우에 사용하게 됩니다."
      ],
      "metadata": {
        "id": "i5NGB_flEVS2"
      }
    },
    {
      "cell_type": "markdown",
      "source": [
        "## format 함수를 사용한 포맷팅"
      ],
      "metadata": {
        "id": "oqpO8so7EfZh"
      }
    },
    {
      "cell_type": "markdown",
      "source": [
        "### 숫자 바로 대입하기"
      ],
      "metadata": {
        "id": "xWEktET8EjHB"
      }
    },
    {
      "cell_type": "code",
      "source": [
        "\"I eat {0} apples\".format(3)"
      ],
      "metadata": {
        "colab": {
          "base_uri": "https://localhost:8080/",
          "height": 36
        },
        "id": "b5xnmf79BnN4",
        "outputId": "e9295eb7-393d-4991-9b8e-6f9dd02b72ec"
      },
      "execution_count": null,
      "outputs": [
        {
          "output_type": "execute_result",
          "data": {
            "text/plain": [
              "'I eat 3 apples'"
            ],
            "application/vnd.google.colaboratory.intrinsic+json": {
              "type": "string"
            }
          },
          "metadata": {},
          "execution_count": 94
        }
      ]
    },
    {
      "cell_type": "markdown",
      "source": [
        "### 문자열 바로 대입하기"
      ],
      "metadata": {
        "id": "pn93EdNSEu33"
      }
    },
    {
      "cell_type": "code",
      "source": [
        "\"I eat {0} apples\".format(\"five\")"
      ],
      "metadata": {
        "colab": {
          "base_uri": "https://localhost:8080/",
          "height": 36
        },
        "id": "FLHc1_hbBnLK",
        "outputId": "74ab1018-753d-455d-e5ce-53d213164cf8"
      },
      "execution_count": null,
      "outputs": [
        {
          "output_type": "execute_result",
          "data": {
            "text/plain": [
              "'I eat five apples'"
            ],
            "application/vnd.google.colaboratory.intrinsic+json": {
              "type": "string"
            }
          },
          "metadata": {},
          "execution_count": 96
        }
      ]
    },
    {
      "cell_type": "markdown",
      "source": [
        "### 숫자 값을 가진 변수로 대입하기"
      ],
      "metadata": {
        "id": "IyKhL94AE35I"
      }
    },
    {
      "cell_type": "code",
      "source": [
        "number = 3\n",
        "\n",
        "\"I eat {0} apples\".format(number)"
      ],
      "metadata": {
        "colab": {
          "base_uri": "https://localhost:8080/",
          "height": 36
        },
        "id": "KNxJd6HkBnI3",
        "outputId": "23d67864-6ba0-4cdf-cb89-0a2255ed1b1a"
      },
      "execution_count": null,
      "outputs": [
        {
          "output_type": "execute_result",
          "data": {
            "text/plain": [
              "'I eat 3 apples'"
            ],
            "application/vnd.google.colaboratory.intrinsic+json": {
              "type": "string"
            }
          },
          "metadata": {},
          "execution_count": 97
        }
      ]
    },
    {
      "cell_type": "markdown",
      "source": [
        "### 2개 이상의 값을 넣기"
      ],
      "metadata": {
        "id": "w1cCItUTE-_s"
      }
    },
    {
      "cell_type": "code",
      "source": [
        "number = 10\n",
        "day = \"three\"\n",
        "\n",
        "\"I ate {0} apples. so I was sick for {1} days\".format(number, day)"
      ],
      "metadata": {
        "colab": {
          "base_uri": "https://localhost:8080/",
          "height": 36
        },
        "id": "c7LWKahfBnGm",
        "outputId": "a2d8877e-d76f-4590-e06b-534c80624b09"
      },
      "execution_count": null,
      "outputs": [
        {
          "output_type": "execute_result",
          "data": {
            "text/plain": [
              "'I ate 10 apples. so I was sick for three days'"
            ],
            "application/vnd.google.colaboratory.intrinsic+json": {
              "type": "string"
            }
          },
          "metadata": {},
          "execution_count": 98
        }
      ]
    },
    {
      "cell_type": "code",
      "source": [
        "\"I ate {number} apples. so I was sick for {day} days\".format(number = 10, day = \"three\")"
      ],
      "metadata": {
        "colab": {
          "base_uri": "https://localhost:8080/",
          "height": 36
        },
        "id": "hNO9OpOIBnD0",
        "outputId": "36916916-9035-4255-a5b6-9cba1bebae95"
      },
      "execution_count": null,
      "outputs": [
        {
          "output_type": "execute_result",
          "data": {
            "text/plain": [
              "'I ate 10 apples. so I was sick for three days'"
            ],
            "application/vnd.google.colaboratory.intrinsic+json": {
              "type": "string"
            }
          },
          "metadata": {},
          "execution_count": 99
        }
      ]
    },
    {
      "cell_type": "markdown",
      "source": [
        "### 인덱스와 이름을 혼용해서 넣기"
      ],
      "metadata": {
        "id": "1KJIzfbsFfuR"
      }
    },
    {
      "cell_type": "code",
      "source": [
        "\"I ate {0} apples. so I was sick for {day} days\".format(10, day = 3)"
      ],
      "metadata": {
        "colab": {
          "base_uri": "https://localhost:8080/",
          "height": 36
        },
        "id": "xEdKjp00BnB1",
        "outputId": "241a4d17-a893-4443-d246-d7b10215d492"
      },
      "execution_count": null,
      "outputs": [
        {
          "output_type": "execute_result",
          "data": {
            "text/plain": [
              "'I ate 10 apples. so I was sick for 3 days'"
            ],
            "application/vnd.google.colaboratory.intrinsic+json": {
              "type": "string"
            }
          },
          "metadata": {},
          "execution_count": 100
        }
      ]
    },
    {
      "cell_type": "markdown",
      "source": [
        "### 왼쪽 정렬"
      ],
      "metadata": {
        "id": "cy8G9WWfFoqS"
      }
    },
    {
      "cell_type": "code",
      "source": [
        "\"{0:<10}\".format(\"hi\")"
      ],
      "metadata": {
        "colab": {
          "base_uri": "https://localhost:8080/",
          "height": 36
        },
        "id": "QvjIkt2VBm-2",
        "outputId": "a9fcf419-56e2-4114-c397-01d4711cb45a"
      },
      "execution_count": null,
      "outputs": [
        {
          "output_type": "execute_result",
          "data": {
            "text/plain": [
              "'hi        '"
            ],
            "application/vnd.google.colaboratory.intrinsic+json": {
              "type": "string"
            }
          },
          "metadata": {},
          "execution_count": 101
        }
      ]
    },
    {
      "cell_type": "markdown",
      "source": [
        "### 오른쪽 정렬"
      ],
      "metadata": {
        "id": "rqVUzSv9FzDO"
      }
    },
    {
      "cell_type": "code",
      "source": [
        "\"{0:>10}\".format(\"hi\")\n"
      ],
      "metadata": {
        "colab": {
          "base_uri": "https://localhost:8080/",
          "height": 36
        },
        "id": "X_cFjvqNBm6-",
        "outputId": "28f8f3f3-5b51-4cb3-f637-e250ee97a691"
      },
      "execution_count": null,
      "outputs": [
        {
          "output_type": "execute_result",
          "data": {
            "text/plain": [
              "'        hi'"
            ],
            "application/vnd.google.colaboratory.intrinsic+json": {
              "type": "string"
            }
          },
          "metadata": {},
          "execution_count": 102
        }
      ]
    },
    {
      "cell_type": "markdown",
      "source": [
        "### 가운데 정렬"
      ],
      "metadata": {
        "id": "Hk0NlAc1F46h"
      }
    },
    {
      "cell_type": "code",
      "source": [
        "\"{0:^10}\".format(\"hi\")\n"
      ],
      "metadata": {
        "colab": {
          "base_uri": "https://localhost:8080/",
          "height": 36
        },
        "id": "-qcUz-qCF1s5",
        "outputId": "81e4a8ea-c51d-4c21-be4c-60344b4b7707"
      },
      "execution_count": null,
      "outputs": [
        {
          "output_type": "execute_result",
          "data": {
            "text/plain": [
              "'    hi    '"
            ],
            "application/vnd.google.colaboratory.intrinsic+json": {
              "type": "string"
            }
          },
          "metadata": {},
          "execution_count": 103
        }
      ]
    },
    {
      "cell_type": "markdown",
      "source": [
        "### 공백 채우기"
      ],
      "metadata": {
        "id": "XM8ajx7LF93e"
      }
    },
    {
      "cell_type": "code",
      "source": [
        "\"{0:-^10}\".format(\"hi\")\n"
      ],
      "metadata": {
        "colab": {
          "base_uri": "https://localhost:8080/",
          "height": 36
        },
        "id": "UZ3r_E1OF4rc",
        "outputId": "580b1753-496a-4a45-9828-665855623fd8"
      },
      "execution_count": null,
      "outputs": [
        {
          "output_type": "execute_result",
          "data": {
            "text/plain": [
              "'----hi----'"
            ],
            "application/vnd.google.colaboratory.intrinsic+json": {
              "type": "string"
            }
          },
          "metadata": {},
          "execution_count": 104
        }
      ]
    },
    {
      "cell_type": "code",
      "source": [
        "\"{0:!^10}\".format(\"hi\")\n"
      ],
      "metadata": {
        "colab": {
          "base_uri": "https://localhost:8080/",
          "height": 36
        },
        "id": "R3A6Z6IUF4o-",
        "outputId": "ad0d9171-b1e7-4e1b-aa58-a7bfc7f4653a"
      },
      "execution_count": null,
      "outputs": [
        {
          "output_type": "execute_result",
          "data": {
            "text/plain": [
              "'!!!!hi!!!!'"
            ],
            "application/vnd.google.colaboratory.intrinsic+json": {
              "type": "string"
            }
          },
          "metadata": {},
          "execution_count": 105
        }
      ]
    },
    {
      "cell_type": "markdown",
      "source": [
        "### 소수점 표현하기"
      ],
      "metadata": {
        "id": "9TdukIGWGINF"
      }
    },
    {
      "cell_type": "code",
      "source": [
        "y = 3.1415926535\n",
        "\n",
        "\"{0:10.4f}\".format(y)"
      ],
      "metadata": {
        "colab": {
          "base_uri": "https://localhost:8080/",
          "height": 36
        },
        "id": "AcGKlXrwF4nS",
        "outputId": "e7cfcf4c-8d84-49c9-eb27-de0f358732db"
      },
      "execution_count": null,
      "outputs": [
        {
          "output_type": "execute_result",
          "data": {
            "text/plain": [
              "'    3.1416'"
            ],
            "application/vnd.google.colaboratory.intrinsic+json": {
              "type": "string"
            }
          },
          "metadata": {},
          "execution_count": 106
        }
      ]
    },
    {
      "cell_type": "markdown",
      "source": [
        "### { 또는 } 문자 표현"
      ],
      "metadata": {
        "id": "ekq5jeBpGaQS"
      }
    },
    {
      "cell_type": "code",
      "source": [
        "\"{{ and }}\".format()"
      ],
      "metadata": {
        "colab": {
          "base_uri": "https://localhost:8080/",
          "height": 36
        },
        "id": "mfnorcSzF4k5",
        "outputId": "21030ab3-55fa-4037-8e9d-440c07e65873"
      },
      "execution_count": null,
      "outputs": [
        {
          "output_type": "execute_result",
          "data": {
            "text/plain": [
              "'{ and }'"
            ],
            "application/vnd.google.colaboratory.intrinsic+json": {
              "type": "string"
            }
          },
          "metadata": {},
          "execution_count": 107
        }
      ]
    },
    {
      "cell_type": "markdown",
      "source": [
        "## f 문자열 포메팅"
      ],
      "metadata": {
        "id": "TMbumJfsGqqO"
      }
    },
    {
      "cell_type": "code",
      "source": [
        "name = \"이호진\"\n",
        "age = 30\n",
        "\n",
        "f'나의 이름은 {name} 입니다. 나이는 {age} 입니다.'"
      ],
      "metadata": {
        "colab": {
          "base_uri": "https://localhost:8080/",
          "height": 36
        },
        "id": "jo8-JgJSF4i0",
        "outputId": "92aa89c6-0217-4d03-fe1a-a5ebfee11a18"
      },
      "execution_count": null,
      "outputs": [
        {
          "output_type": "execute_result",
          "data": {
            "text/plain": [
              "'나의 이름은 이호진 입니다. 나이는 30 입니다.'"
            ],
            "application/vnd.google.colaboratory.intrinsic+json": {
              "type": "string"
            }
          },
          "metadata": {},
          "execution_count": 108
        }
      ]
    },
    {
      "cell_type": "code",
      "source": [
        "f'나는 내년이면 나이는 {age + 1} 살이 됩니다.'"
      ],
      "metadata": {
        "colab": {
          "base_uri": "https://localhost:8080/",
          "height": 36
        },
        "id": "YqE93JsRF4gj",
        "outputId": "7f1cc4ea-b97a-485a-b3a0-1f10d64caaea"
      },
      "execution_count": null,
      "outputs": [
        {
          "output_type": "execute_result",
          "data": {
            "text/plain": [
              "'나는 내년이면 나이는 31 살이 됩니다.'"
            ],
            "application/vnd.google.colaboratory.intrinsic+json": {
              "type": "string"
            }
          },
          "metadata": {},
          "execution_count": 109
        }
      ]
    },
    {
      "cell_type": "markdown",
      "source": [
        "### 딕셔너리는 key, value 로 이루어진 자료형"
      ],
      "metadata": {
        "id": "LpDLb3LsHIAz"
      }
    },
    {
      "cell_type": "code",
      "source": [
        "d = {'name' : \"이호진\", 'age' : 30}\n",
        "f'나의 이름은 {d[\"name\"]} 입니다. 나이는 {d[\"age\"]} 입니다.'"
      ],
      "metadata": {
        "colab": {
          "base_uri": "https://localhost:8080/",
          "height": 36
        },
        "id": "98SQj50kF4eY",
        "outputId": "d9909172-2b51-4d0d-9fd2-50485638255b"
      },
      "execution_count": null,
      "outputs": [
        {
          "output_type": "execute_result",
          "data": {
            "text/plain": [
              "'나의 이름은 이호진 입니다. 나이는 30 입니다.'"
            ],
            "application/vnd.google.colaboratory.intrinsic+json": {
              "type": "string"
            }
          },
          "metadata": {},
          "execution_count": 110
        }
      ]
    },
    {
      "cell_type": "markdown",
      "source": [
        "### 정렬"
      ],
      "metadata": {
        "id": "yNA6uOxoHkhi"
      }
    },
    {
      "cell_type": "code",
      "source": [
        "f'{\"hi\":<10}' # 왼쪽 정렬"
      ],
      "metadata": {
        "colab": {
          "base_uri": "https://localhost:8080/",
          "height": 36
        },
        "id": "SKb51nvBF4b-",
        "outputId": "e1bf025d-aea3-4178-c9aa-c01fb2ae1483"
      },
      "execution_count": null,
      "outputs": [
        {
          "output_type": "execute_result",
          "data": {
            "text/plain": [
              "'hi        '"
            ],
            "application/vnd.google.colaboratory.intrinsic+json": {
              "type": "string"
            }
          },
          "metadata": {},
          "execution_count": 112
        }
      ]
    },
    {
      "cell_type": "code",
      "source": [
        "f'{\"hi\":>10}' # 오른쪽 정렬"
      ],
      "metadata": {
        "colab": {
          "base_uri": "https://localhost:8080/",
          "height": 36
        },
        "id": "45dFaISyF4Z5",
        "outputId": "4450d2b3-448d-440d-b47c-9e963a058ad2"
      },
      "execution_count": null,
      "outputs": [
        {
          "output_type": "execute_result",
          "data": {
            "text/plain": [
              "'        hi'"
            ],
            "application/vnd.google.colaboratory.intrinsic+json": {
              "type": "string"
            }
          },
          "metadata": {},
          "execution_count": 114
        }
      ]
    },
    {
      "cell_type": "code",
      "source": [
        "f'{\"hi\":^10}' # 중앙 정렬"
      ],
      "metadata": {
        "colab": {
          "base_uri": "https://localhost:8080/",
          "height": 36
        },
        "id": "_BtsbQxfF4Xz",
        "outputId": "93cb231a-2da1-4843-e9db-4db28f902128"
      },
      "execution_count": null,
      "outputs": [
        {
          "output_type": "execute_result",
          "data": {
            "text/plain": [
              "'    hi    '"
            ],
            "application/vnd.google.colaboratory.intrinsic+json": {
              "type": "string"
            }
          },
          "metadata": {},
          "execution_count": 115
        }
      ]
    },
    {
      "cell_type": "code",
      "source": [
        "# 공백 메우기\n",
        "f'{\"hi\":=^10}'"
      ],
      "metadata": {
        "colab": {
          "base_uri": "https://localhost:8080/",
          "height": 36
        },
        "id": "WGRwOJ2-Guas",
        "outputId": "3da72854-e393-44c1-af8c-9e1af1e63200"
      },
      "execution_count": null,
      "outputs": [
        {
          "output_type": "execute_result",
          "data": {
            "text/plain": [
              "'====hi===='"
            ],
            "application/vnd.google.colaboratory.intrinsic+json": {
              "type": "string"
            }
          },
          "metadata": {},
          "execution_count": 116
        }
      ]
    },
    {
      "cell_type": "markdown",
      "source": [
        "### 소수점 표현"
      ],
      "metadata": {
        "id": "ouDNlLkWH6-w"
      }
    },
    {
      "cell_type": "code",
      "source": [
        "y = 3.141592\n",
        "\n",
        "f'{y:0.4}' # 소수점 4자리까지만 표현"
      ],
      "metadata": {
        "colab": {
          "base_uri": "https://localhost:8080/",
          "height": 36
        },
        "id": "3adFR5qXGuYj",
        "outputId": "26f356ce-2287-4456-c0a2-847efd265791"
      },
      "execution_count": null,
      "outputs": [
        {
          "output_type": "execute_result",
          "data": {
            "text/plain": [
              "'3.142'"
            ],
            "application/vnd.google.colaboratory.intrinsic+json": {
              "type": "string"
            }
          },
          "metadata": {},
          "execution_count": 117
        }
      ]
    },
    {
      "cell_type": "code",
      "source": [
        "f'{y:10.4}' # 소수점 4자리까지만 표현하고 총 자리 수를 10으로 조정"
      ],
      "metadata": {
        "colab": {
          "base_uri": "https://localhost:8080/",
          "height": 36
        },
        "id": "EgHERyvXGuUw",
        "outputId": "a3f91881-e1fd-425e-b377-2a2099453047"
      },
      "execution_count": null,
      "outputs": [
        {
          "output_type": "execute_result",
          "data": {
            "text/plain": [
              "'     3.142'"
            ],
            "application/vnd.google.colaboratory.intrinsic+json": {
              "type": "string"
            }
          },
          "metadata": {},
          "execution_count": 118
        }
      ]
    },
    {
      "cell_type": "markdown",
      "source": [
        "### { 또는 } 표현"
      ],
      "metadata": {
        "id": "A_3pcFfUIO2I"
      }
    },
    {
      "cell_type": "code",
      "source": [
        "f'{{ and }}'"
      ],
      "metadata": {
        "colab": {
          "base_uri": "https://localhost:8080/",
          "height": 36
        },
        "id": "hWidQ-92GuSn",
        "outputId": "a09f3d55-77ae-4a10-f59b-90980bf0a7e5"
      },
      "execution_count": null,
      "outputs": [
        {
          "output_type": "execute_result",
          "data": {
            "text/plain": [
              "'{ and }'"
            ],
            "application/vnd.google.colaboratory.intrinsic+json": {
              "type": "string"
            }
          },
          "metadata": {},
          "execution_count": 119
        }
      ]
    },
    {
      "cell_type": "markdown",
      "source": [
        "### count()\n",
        "\n",
        "- 문자 갯수 세기"
      ],
      "metadata": {
        "id": "bfehLC0iIZvf"
      }
    },
    {
      "cell_type": "code",
      "source": [
        "a = \"computerrrr\"\n",
        "\n",
        "a.count('r')"
      ],
      "metadata": {
        "colab": {
          "base_uri": "https://localhost:8080/"
        },
        "id": "5QsrGVMiGuQV",
        "outputId": "a33e5727-305c-423d-f268-f228ae9508e9"
      },
      "execution_count": null,
      "outputs": [
        {
          "output_type": "execute_result",
          "data": {
            "text/plain": [
              "4"
            ]
          },
          "metadata": {},
          "execution_count": 120
        }
      ]
    },
    {
      "cell_type": "markdown",
      "source": [
        "### find()\n",
        "- 위치를 알려줌"
      ],
      "metadata": {
        "id": "0tyMAFaYIm-r"
      }
    },
    {
      "cell_type": "code",
      "source": [
        "a = \"Python is short.\"\n",
        "\n",
        "a.find('a')"
      ],
      "metadata": {
        "colab": {
          "base_uri": "https://localhost:8080/"
        },
        "id": "enEVNpiBGuOO",
        "outputId": "fdf7b37b-fbfc-4cb6-c756-f8f78b1a97c8"
      },
      "execution_count": null,
      "outputs": [
        {
          "output_type": "execute_result",
          "data": {
            "text/plain": [
              "-1"
            ]
          },
          "metadata": {},
          "execution_count": 123
        }
      ]
    },
    {
      "cell_type": "markdown",
      "source": [
        "### index()\n",
        "- 위치를 알려줌"
      ],
      "metadata": {
        "id": "61_QXYjII8M6"
      }
    },
    {
      "cell_type": "code",
      "source": [
        "a = \"Python is short.\"\n",
        "\n",
        "a.index('a')"
      ],
      "metadata": {
        "colab": {
          "base_uri": "https://localhost:8080/",
          "height": 205
        },
        "id": "9h4NAyaHGuL7",
        "outputId": "bd843547-33f0-4d7c-d682-8f24d1125721"
      },
      "execution_count": null,
      "outputs": [
        {
          "output_type": "error",
          "ename": "ValueError",
          "evalue": "ignored",
          "traceback": [
            "\u001b[0;31m---------------------------------------------------------------------------\u001b[0m",
            "\u001b[0;31mValueError\u001b[0m                                Traceback (most recent call last)",
            "\u001b[0;32m<ipython-input-125-320b1dfa1344>\u001b[0m in \u001b[0;36m<module>\u001b[0;34m\u001b[0m\n\u001b[1;32m      1\u001b[0m \u001b[0ma\u001b[0m \u001b[0;34m=\u001b[0m \u001b[0;34m\"Python is short.\"\u001b[0m\u001b[0;34m\u001b[0m\u001b[0;34m\u001b[0m\u001b[0m\n\u001b[1;32m      2\u001b[0m \u001b[0;34m\u001b[0m\u001b[0m\n\u001b[0;32m----> 3\u001b[0;31m \u001b[0ma\u001b[0m\u001b[0;34m.\u001b[0m\u001b[0mindex\u001b[0m\u001b[0;34m(\u001b[0m\u001b[0;34m'a'\u001b[0m\u001b[0;34m)\u001b[0m\u001b[0;34m\u001b[0m\u001b[0;34m\u001b[0m\u001b[0m\n\u001b[0m",
            "\u001b[0;31mValueError\u001b[0m: substring not found"
          ]
        }
      ]
    },
    {
      "cell_type": "markdown",
      "source": [
        "### join()\n",
        "- 문자열 삽입"
      ],
      "metadata": {
        "id": "UVHYfBTSJGgG"
      }
    },
    {
      "cell_type": "code",
      "source": [
        "\",\".join('abcd')"
      ],
      "metadata": {
        "colab": {
          "base_uri": "https://localhost:8080/",
          "height": 36
        },
        "id": "s8G1BbppGuJr",
        "outputId": "020ca8cc-5f70-4ee6-d696-9bebf220f6dd"
      },
      "execution_count": null,
      "outputs": [
        {
          "output_type": "execute_result",
          "data": {
            "text/plain": [
              "'a,b,c,d'"
            ],
            "application/vnd.google.colaboratory.intrinsic+json": {
              "type": "string"
            }
          },
          "metadata": {},
          "execution_count": 126
        }
      ]
    },
    {
      "cell_type": "markdown",
      "source": [
        "### upper\n",
        "\n",
        "- 소문자를 대문자로 바꾸기"
      ],
      "metadata": {
        "id": "ZvvotZ26JRbs"
      }
    },
    {
      "cell_type": "code",
      "source": [
        "a = \"hi\"\n",
        "\n",
        "a.upper()"
      ],
      "metadata": {
        "colab": {
          "base_uri": "https://localhost:8080/",
          "height": 36
        },
        "id": "jrtqzU_tGuH4",
        "outputId": "98417144-52fd-4498-d746-876902cc13a1"
      },
      "execution_count": null,
      "outputs": [
        {
          "output_type": "execute_result",
          "data": {
            "text/plain": [
              "'HI'"
            ],
            "application/vnd.google.colaboratory.intrinsic+json": {
              "type": "string"
            }
          },
          "metadata": {},
          "execution_count": 127
        }
      ]
    },
    {
      "cell_type": "markdown",
      "source": [
        "### lower\n",
        "- 대문자를 소문자로 바꾸기"
      ],
      "metadata": {
        "id": "hUbGKXnvJZjx"
      }
    },
    {
      "cell_type": "code",
      "source": [
        "a = \"HI\"\n",
        "\n",
        "a.lower()"
      ],
      "metadata": {
        "colab": {
          "base_uri": "https://localhost:8080/",
          "height": 36
        },
        "id": "qkx_oCeUIu8s",
        "outputId": "baf0efa9-c081-4ef2-a067-82414f55783a"
      },
      "execution_count": null,
      "outputs": [
        {
          "output_type": "execute_result",
          "data": {
            "text/plain": [
              "'hi'"
            ],
            "application/vnd.google.colaboratory.intrinsic+json": {
              "type": "string"
            }
          },
          "metadata": {},
          "execution_count": 128
        }
      ]
    },
    {
      "cell_type": "markdown",
      "source": [
        "### lstrip()\n",
        "- 왼쪽 공백 지우기\n",
        "\n",
        "### rstrip()\n",
        "- 오른쪽 공백 지우기\n",
        "\n",
        "### strip()\n",
        "- 양쪽 공백 지우기"
      ],
      "metadata": {
        "id": "J6m2t4PNJiRk"
      }
    },
    {
      "cell_type": "code",
      "source": [
        "a = \"   Hi   \""
      ],
      "metadata": {
        "id": "X1dMALSzIu63"
      },
      "execution_count": null,
      "outputs": []
    },
    {
      "cell_type": "code",
      "source": [
        "a.lstrip()"
      ],
      "metadata": {
        "colab": {
          "base_uri": "https://localhost:8080/",
          "height": 36
        },
        "id": "m-9IajitIu4l",
        "outputId": "0bba2727-7b18-4d9d-d564-a89e5e042dbe"
      },
      "execution_count": null,
      "outputs": [
        {
          "output_type": "execute_result",
          "data": {
            "text/plain": [
              "'Hi   '"
            ],
            "application/vnd.google.colaboratory.intrinsic+json": {
              "type": "string"
            }
          },
          "metadata": {},
          "execution_count": 130
        }
      ]
    },
    {
      "cell_type": "code",
      "source": [
        "a.rstrip()"
      ],
      "metadata": {
        "colab": {
          "base_uri": "https://localhost:8080/",
          "height": 36
        },
        "id": "luEfI68bIu2r",
        "outputId": "6e25c171-9d6c-4dff-d73e-825333ffaed4"
      },
      "execution_count": null,
      "outputs": [
        {
          "output_type": "execute_result",
          "data": {
            "text/plain": [
              "'   Hi'"
            ],
            "application/vnd.google.colaboratory.intrinsic+json": {
              "type": "string"
            }
          },
          "metadata": {},
          "execution_count": 131
        }
      ]
    },
    {
      "cell_type": "code",
      "source": [
        "a.strip()"
      ],
      "metadata": {
        "colab": {
          "base_uri": "https://localhost:8080/",
          "height": 36
        },
        "id": "sSXx5iKTIu0i",
        "outputId": "82ea6673-70af-4b2f-a800-16d939e9edf5"
      },
      "execution_count": null,
      "outputs": [
        {
          "output_type": "execute_result",
          "data": {
            "text/plain": [
              "'Hi'"
            ],
            "application/vnd.google.colaboratory.intrinsic+json": {
              "type": "string"
            }
          },
          "metadata": {},
          "execution_count": 132
        }
      ]
    },
    {
      "cell_type": "markdown",
      "source": [
        "### split()\n",
        "- 문자열 나누기"
      ],
      "metadata": {
        "id": "LXeZF3BOJ92l"
      }
    },
    {
      "cell_type": "code",
      "source": [
        "a = \"Life is too short.\"\n",
        "\n",
        "a.split()"
      ],
      "metadata": {
        "colab": {
          "base_uri": "https://localhost:8080/"
        },
        "id": "bqj1DM-mIuyW",
        "outputId": "84094f37-51c8-448c-dde0-f10cdfd20dd9"
      },
      "execution_count": null,
      "outputs": [
        {
          "output_type": "execute_result",
          "data": {
            "text/plain": [
              "['Life', 'is', 'too', 'short.']"
            ]
          },
          "metadata": {},
          "execution_count": 133
        }
      ]
    },
    {
      "cell_type": "markdown",
      "source": [
        "# 리스트 자료형"
      ],
      "metadata": {
        "id": "_5rPMxAdRpK9"
      }
    },
    {
      "cell_type": "code",
      "source": [],
      "metadata": {
        "id": "ZrHFg8JhRrEp"
      },
      "execution_count": null,
      "outputs": []
    }
  ]
}